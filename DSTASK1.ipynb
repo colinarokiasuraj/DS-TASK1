{
  "nbformat": 4,
  "nbformat_minor": 0,
  "metadata": {
    "colab": {
      "provenance": [],
      "authorship_tag": "ABX9TyOCsTrT+LBDgs+VX5i75jjZ",
      "include_colab_link": true
    },
    "kernelspec": {
      "name": "python3",
      "display_name": "Python 3"
    },
    "language_info": {
      "name": "python"
    }
  },
  "cells": [
    {
      "cell_type": "markdown",
      "metadata": {
        "id": "view-in-github",
        "colab_type": "text"
      },
      "source": [
        "<a href=\"https://colab.research.google.com/github/colinarokiasuraj/DS-TASK1/blob/main/DSTASK1.ipynb\" target=\"_parent\"><img src=\"https://colab.research.google.com/assets/colab-badge.svg\" alt=\"Open In Colab\"/></a>"
      ]
    },
    {
      "cell_type": "markdown",
      "source": [
        "TASK1"
      ],
      "metadata": {
        "id": "zzzL0EoxeL66"
      }
    },
    {
      "cell_type": "code",
      "source": [
        "def register():\n",
        "  username=input('Please enter username or emailid')\n",
        "  for i in range(0,len(username)):\n",
        "    if ((i==0 and username[i]=='@')or(username[i]=='@' and username[i+1]=='.')or(i==0 and username[i].isdigit())or(i==0 and (username[i]=='&' or username[i]=='!' or username[i]=='%' or username[i]=='#'))):\n",
        "      print('invalid username please enter valid username')\n",
        "      register()\n",
        "  password=input('enter password')\n",
        "  digit=0\n",
        "  special_char=0\n",
        "  small_letters=0\n",
        "  capital_letters=0\n",
        "  for i in range(0,len(password)):\n",
        "    if(password[i]=='!' or password[i]=='%' or password[i]=='#' or password[i]=='&' or password[i]=='@' ):\n",
        "      special_char+=1\n",
        "    if(password[i].isupper()):\n",
        "      capital_letters+=1\n",
        "    if(password[i].islower()):\n",
        "      small_letters+=1\n",
        "    if(password[i].isdigit()):\n",
        "      digit+=1\n",
        "  if((len(password)>5 and len(password)<16) and special_char>=1 and digit>=1 and small_letters>=1 and capital_letters>=1):\n",
        "    print('registered successfully!!!!')\n",
        "    db=open(\"login.txt\", \"a\")\n",
        "    data=username+','+password\n",
        "    db.write(data)\n",
        "    db.write('\\n')\n",
        "    db.close()\n",
        "    db=open(\"login.txt\", \"r\")\n",
        "    print(db.read())\n",
        "    \n",
        "  else:\n",
        "    print('password is not matching please register again')\n",
        "    register()\n",
        "    \n",
        "    \n",
        "ss='false'\n",
        "i=input('Welcome to GUVI\\n if you are a new user enter y to register else n')\n",
        "if i=='y':\n",
        "  register()\n",
        "if i=='n':\n",
        "  i=input('Would you like to login? enter y or n?')\n",
        "  if i=='n':\n",
        "    print('no action is taken')\n",
        "  if i=='y':\n",
        "    user_name=input('please enter username/emailid')\n",
        "    pass_word=input('please enter the password')\n",
        "    db=open(\"login.txt\", \"r\")\n",
        "  \n",
        "    for s in db:\n",
        "      a,b=s.split(\",\")\n",
        "      b=b.strip()\n",
        "      if(user_name==a and pass_word==b):\n",
        "        print('login successful!!!')\n",
        "        ss='true'\n",
        "        exit()\n",
        "      if(user_name==a and pass_word!=b):\n",
        "        print('password is wrong.')\n",
        "        l=input('would you like to click forgot password. enter y/n')\n",
        "        if l=='y':\n",
        "          print('your password is ',b)\n",
        "          ss='true'\n",
        "          break\n",
        "        else:\n",
        "          print('no forgot password is requested')\n",
        "          ss='true'\n",
        "          break\n",
        "    if(ss=='false'):\n",
        "      print('credentials not found. kindly register')"
      ],
      "metadata": {
        "colab": {
          "base_uri": "https://localhost:8080/"
        },
        "id": "uGCLWG_eeJyO",
        "outputId": "2b5e0f87-0b1e-444a-bd76-a57ec3ac23a7"
      },
      "execution_count": 14,
      "outputs": [
        {
          "output_type": "stream",
          "name": "stdout",
          "text": [
            "Welcome to GUVI\n",
            " if you are a new user enter y to register else ny\n",
            "Please enter username or emailidcolin\n",
            "enter passwordColani@143\n",
            "registered successfully!!!!\n",
            "a@gmail.com,,a2@shJy\n",
            "abc@yahoo.com,B@345jhgba\n",
            "colin,Colani@143\n",
            "\n"
          ]
        }
      ]
    },
    {
      "cell_type": "code",
      "execution_count": null,
      "metadata": {
        "id": "eHC9K8j5eBO3"
      },
      "outputs": [],
      "source": []
    }
  ]
}